{
 "cells": [
  {
   "cell_type": "code",
   "execution_count": null,
   "id": "331e596b-48e1-413b-98f3-7e83cd7f2445",
   "metadata": {},
   "outputs": [],
   "source": []
  },
  {
   "cell_type": "code",
   "execution_count": 4,
   "id": "06e4a804-eae1-449c-a18c-e787bb7506c8",
   "metadata": {},
   "outputs": [
    {
     "name": "stdout",
     "output_type": "stream",
     "text": [
      "Requirement already satisfied: pip in c:\\users\\kapul\\appdata\\local\\programs\\python\\python312\\lib\\site-packages (25.2)\n",
      "Requirement already satisfied: setuptools in c:\\users\\kapul\\appdata\\local\\programs\\python\\python312\\lib\\site-packages (75.1.0)\n",
      "Collecting setuptools\n",
      "  Downloading setuptools-80.9.0-py3-none-any.whl.metadata (6.6 kB)\n",
      "Requirement already satisfied: wheel in c:\\users\\kapul\\appdata\\local\\programs\\python\\python312\\lib\\site-packages (0.44.0)\n",
      "Collecting wheel\n",
      "  Downloading wheel-0.45.1-py3-none-any.whl.metadata (2.3 kB)\n",
      "Downloading setuptools-80.9.0-py3-none-any.whl (1.2 MB)\n",
      "   ---------------------------------------- 0.0/1.2 MB ? eta -:--:--\n",
      "   ----------------- ---------------------- 0.5/1.2 MB 8.5 MB/s eta 0:00:01\n",
      "   ---------------------------------------- 1.2/1.2 MB 6.7 MB/s  0:00:00\n",
      "Downloading wheel-0.45.1-py3-none-any.whl (72 kB)\n",
      "Installing collected packages: wheel, setuptools\n",
      "\n",
      "  Attempting uninstall: wheel\n",
      "\n",
      "    Found existing installation: wheel 0.44.0\n",
      "\n",
      "    Uninstalling wheel-0.44.0:\n",
      "\n",
      "      Successfully uninstalled wheel-0.44.0\n",
      "\n",
      "   ---------------------------------------- 0/2 [wheel]\n",
      "   ---------------------------------------- 0/2 [wheel]\n",
      "   ---------------------------------------- 0/2 [wheel]\n",
      "   ---------------------------------------- 0/2 [wheel]\n",
      "   ---------------------------------------- 0/2 [wheel]\n",
      "   ---------------------------------------- 0/2 [wheel]\n",
      "   ---------------------------------------- 0/2 [wheel]\n",
      "   ---------------------------------------- 0/2 [wheel]\n",
      "  Attempting uninstall: setuptools\n",
      "   ---------------------------------------- 0/2 [wheel]\n",
      "    Found existing installation: setuptools 75.1.0\n",
      "   ---------------------------------------- 0/2 [wheel]\n",
      "   -------------------- ------------------- 1/2 [setuptools]\n",
      "   -------------------- ------------------- 1/2 [setuptools]\n",
      "   -------------------- ------------------- 1/2 [setuptools]\n",
      "    Uninstalling setuptools-75.1.0:\n",
      "   -------------------- ------------------- 1/2 [setuptools]\n",
      "   -------------------- ------------------- 1/2 [setuptools]\n",
      "   -------------------- ------------------- 1/2 [setuptools]\n",
      "   -------------------- ------------------- 1/2 [setuptools]\n",
      "   -------------------- ------------------- 1/2 [setuptools]\n",
      "   -------------------- ------------------- 1/2 [setuptools]\n",
      "   -------------------- ------------------- 1/2 [setuptools]\n",
      "   -------------------- ------------------- 1/2 [setuptools]\n",
      "   -------------------- ------------------- 1/2 [setuptools]\n",
      "   -------------------- ------------------- 1/2 [setuptools]\n",
      "   -------------------- ------------------- 1/2 [setuptools]\n",
      "   -------------------- ------------------- 1/2 [setuptools]\n",
      "   -------------------- ------------------- 1/2 [setuptools]\n",
      "   -------------------- ------------------- 1/2 [setuptools]\n",
      "   -------------------- ------------------- 1/2 [setuptools]\n",
      "   -------------------- ------------------- 1/2 [setuptools]\n",
      "   -------------------- ------------------- 1/2 [setuptools]\n",
      "   -------------------- ------------------- 1/2 [setuptools]\n",
      "   -------------------- ------------------- 1/2 [setuptools]\n",
      "   -------------------- ------------------- 1/2 [setuptools]\n",
      "   -------------------- ------------------- 1/2 [setuptools]\n",
      "   -------------------- ------------------- 1/2 [setuptools]\n",
      "   -------------------- ------------------- 1/2 [setuptools]\n",
      "   -------------------- ------------------- 1/2 [setuptools]\n",
      "   -------------------- ------------------- 1/2 [setuptools]\n",
      "      Successfully uninstalled setuptools-75.1.0\n",
      "   -------------------- ------------------- 1/2 [setuptools]\n",
      "   -------------------- ------------------- 1/2 [setuptools]\n",
      "   -------------------- ------------------- 1/2 [setuptools]\n",
      "   -------------------- ------------------- 1/2 [setuptools]\n",
      "   -------------------- ------------------- 1/2 [setuptools]\n",
      "   -------------------- ------------------- 1/2 [setuptools]\n",
      "   -------------------- ------------------- 1/2 [setuptools]\n",
      "   -------------------- ------------------- 1/2 [setuptools]\n",
      "   -------------------- ------------------- 1/2 [setuptools]\n",
      "   -------------------- ------------------- 1/2 [setuptools]\n",
      "   -------------------- ------------------- 1/2 [setuptools]\n",
      "   -------------------- ------------------- 1/2 [setuptools]\n",
      "   -------------------- ------------------- 1/2 [setuptools]\n",
      "   -------------------- ------------------- 1/2 [setuptools]\n",
      "   -------------------- ------------------- 1/2 [setuptools]\n",
      "   -------------------- ------------------- 1/2 [setuptools]\n",
      "   -------------------- ------------------- 1/2 [setuptools]\n",
      "   -------------------- ------------------- 1/2 [setuptools]\n",
      "   -------------------- ------------------- 1/2 [setuptools]\n",
      "   -------------------- ------------------- 1/2 [setuptools]\n",
      "   -------------------- ------------------- 1/2 [setuptools]\n",
      "   -------------------- ------------------- 1/2 [setuptools]\n",
      "   -------------------- ------------------- 1/2 [setuptools]\n",
      "   -------------------- ------------------- 1/2 [setuptools]\n",
      "   -------------------- ------------------- 1/2 [setuptools]\n",
      "   -------------------- ------------------- 1/2 [setuptools]\n",
      "   -------------------- ------------------- 1/2 [setuptools]\n",
      "   -------------------- ------------------- 1/2 [setuptools]\n",
      "   -------------------- ------------------- 1/2 [setuptools]\n",
      "   -------------------- ------------------- 1/2 [setuptools]\n",
      "   -------------------- ------------------- 1/2 [setuptools]\n",
      "   -------------------- ------------------- 1/2 [setuptools]\n",
      "   -------------------- ------------------- 1/2 [setuptools]\n",
      "   -------------------- ------------------- 1/2 [setuptools]\n",
      "   -------------------- ------------------- 1/2 [setuptools]\n",
      "   -------------------- ------------------- 1/2 [setuptools]\n",
      "   -------------------- ------------------- 1/2 [setuptools]\n",
      "   -------------------- ------------------- 1/2 [setuptools]\n",
      "   -------------------- ------------------- 1/2 [setuptools]\n",
      "   -------------------- ------------------- 1/2 [setuptools]\n",
      "   -------------------- ------------------- 1/2 [setuptools]\n",
      "   -------------------- ------------------- 1/2 [setuptools]\n",
      "   -------------------- ------------------- 1/2 [setuptools]\n",
      "   -------------------- ------------------- 1/2 [setuptools]\n",
      "   -------------------- ------------------- 1/2 [setuptools]\n",
      "   -------------------- ------------------- 1/2 [setuptools]\n",
      "   -------------------- ------------------- 1/2 [setuptools]\n",
      "   -------------------- ------------------- 1/2 [setuptools]\n",
      "   -------------------- ------------------- 1/2 [setuptools]\n",
      "   -------------------- ------------------- 1/2 [setuptools]\n",
      "   -------------------- ------------------- 1/2 [setuptools]\n",
      "   -------------------- ------------------- 1/2 [setuptools]\n",
      "   -------------------- ------------------- 1/2 [setuptools]\n",
      "   -------------------- ------------------- 1/2 [setuptools]\n",
      "   -------------------- ------------------- 1/2 [setuptools]\n",
      "   -------------------- ------------------- 1/2 [setuptools]\n",
      "   -------------------- ------------------- 1/2 [setuptools]\n",
      "   -------------------- ------------------- 1/2 [setuptools]\n",
      "   -------------------- ------------------- 1/2 [setuptools]\n",
      "   -------------------- ------------------- 1/2 [setuptools]\n",
      "   -------------------- ------------------- 1/2 [setuptools]\n",
      "   -------------------- ------------------- 1/2 [setuptools]\n",
      "   -------------------- ------------------- 1/2 [setuptools]\n",
      "   -------------------- ------------------- 1/2 [setuptools]\n",
      "   -------------------- ------------------- 1/2 [setuptools]\n",
      "   -------------------- ------------------- 1/2 [setuptools]\n",
      "   -------------------- ------------------- 1/2 [setuptools]\n",
      "   -------------------- ------------------- 1/2 [setuptools]\n",
      "   -------------------- ------------------- 1/2 [setuptools]\n",
      "   -------------------- ------------------- 1/2 [setuptools]\n",
      "   ---------------------------------------- 2/2 [setuptools]\n",
      "\n",
      "Successfully installed setuptools-80.9.0 wheel-0.45.1\n"
     ]
    }
   ],
   "source": [
    "!python -m pip install --upgrade pip setuptools wheel\n"
   ]
  },
  {
   "cell_type": "code",
   "execution_count": 6,
   "id": "6ffe3067-f744-4409-a07b-3addfa595962",
   "metadata": {},
   "outputs": [
    {
     "name": "stdout",
     "output_type": "stream",
     "text": [
      "Collecting scipy\n",
      "  Downloading scipy-1.16.1-cp312-cp312-win_amd64.whl.metadata (60 kB)\n",
      "Requirement already satisfied: numpy<2.6,>=1.25.2 in c:\\users\\kapul\\appdata\\local\\programs\\python\\python312\\lib\\site-packages (from scipy) (1.26.4)\n",
      "Downloading scipy-1.16.1-cp312-cp312-win_amd64.whl (38.5 MB)\n",
      "   ---------------------------------------- 0.0/38.5 MB ? eta -:--:--\n",
      "    --------------------------------------- 0.5/38.5 MB 4.2 MB/s eta 0:00:09\n",
      "   -- ------------------------------------- 2.1/38.5 MB 6.2 MB/s eta 0:00:06\n",
      "   ---- ----------------------------------- 4.2/38.5 MB 7.4 MB/s eta 0:00:05\n",
      "   ----- ---------------------------------- 5.8/38.5 MB 7.3 MB/s eta 0:00:05\n",
      "   ------ --------------------------------- 6.6/38.5 MB 6.8 MB/s eta 0:00:05\n",
      "   ------- -------------------------------- 7.3/38.5 MB 6.3 MB/s eta 0:00:05\n",
      "   -------- ------------------------------- 8.1/38.5 MB 5.9 MB/s eta 0:00:06\n",
      "   --------- ------------------------------ 8.9/38.5 MB 5.6 MB/s eta 0:00:06\n",
      "   ---------- ----------------------------- 9.7/38.5 MB 5.3 MB/s eta 0:00:06\n",
      "   ---------- ----------------------------- 10.2/38.5 MB 5.2 MB/s eta 0:00:06\n",
      "   ----------- ---------------------------- 11.0/38.5 MB 4.9 MB/s eta 0:00:06\n",
      "   ----------- ---------------------------- 11.5/38.5 MB 4.8 MB/s eta 0:00:06\n",
      "   ------------ --------------------------- 12.3/38.5 MB 4.6 MB/s eta 0:00:06\n",
      "   ------------- -------------------------- 12.8/38.5 MB 4.6 MB/s eta 0:00:06\n",
      "   -------------- ------------------------- 13.6/38.5 MB 4.4 MB/s eta 0:00:06\n",
      "   -------------- ------------------------- 14.2/38.5 MB 4.4 MB/s eta 0:00:06\n",
      "   --------------- ------------------------ 14.9/38.5 MB 4.3 MB/s eta 0:00:06\n",
      "   ---------------- ----------------------- 15.7/38.5 MB 4.2 MB/s eta 0:00:06\n",
      "   ---------------- ----------------------- 16.3/38.5 MB 4.2 MB/s eta 0:00:06\n",
      "   ----------------- ---------------------- 17.0/38.5 MB 4.1 MB/s eta 0:00:06\n",
      "   ------------------ --------------------- 17.8/38.5 MB 4.1 MB/s eta 0:00:06\n",
      "   ------------------- -------------------- 18.6/38.5 MB 4.1 MB/s eta 0:00:05\n",
      "   -------------------- ------------------- 19.4/38.5 MB 4.1 MB/s eta 0:00:05\n",
      "   -------------------- ------------------- 20.2/38.5 MB 4.0 MB/s eta 0:00:05\n",
      "   --------------------- ------------------ 21.0/38.5 MB 4.0 MB/s eta 0:00:05\n",
      "   ---------------------- ----------------- 21.8/38.5 MB 4.0 MB/s eta 0:00:05\n",
      "   ----------------------- ---------------- 22.5/38.5 MB 4.0 MB/s eta 0:00:04\n",
      "   ------------------------ --------------- 23.3/38.5 MB 4.0 MB/s eta 0:00:04\n",
      "   ------------------------- -------------- 24.4/38.5 MB 4.0 MB/s eta 0:00:04\n",
      "   -------------------------- ------------- 25.2/38.5 MB 4.0 MB/s eta 0:00:04\n",
      "   -------------------------- ------------- 26.0/38.5 MB 4.0 MB/s eta 0:00:04\n",
      "   ---------------------------- ----------- 27.0/38.5 MB 4.0 MB/s eta 0:00:03\n",
      "   ---------------------------- ----------- 27.8/38.5 MB 4.0 MB/s eta 0:00:03\n",
      "   ----------------------------- ---------- 28.6/38.5 MB 4.0 MB/s eta 0:00:03\n",
      "   ------------------------------ --------- 29.6/38.5 MB 4.1 MB/s eta 0:00:03\n",
      "   ------------------------------- -------- 30.7/38.5 MB 4.1 MB/s eta 0:00:02\n",
      "   -------------------------------- ------- 31.7/38.5 MB 4.1 MB/s eta 0:00:02\n",
      "   --------------------------------- ------ 32.5/38.5 MB 4.1 MB/s eta 0:00:02\n",
      "   ---------------------------------- ----- 33.3/38.5 MB 4.1 MB/s eta 0:00:02\n",
      "   ----------------------------------- ---- 34.3/38.5 MB 4.1 MB/s eta 0:00:02\n",
      "   ------------------------------------ --- 35.4/38.5 MB 4.1 MB/s eta 0:00:01\n",
      "   ------------------------------------- -- 36.2/38.5 MB 4.1 MB/s eta 0:00:01\n",
      "   -------------------------------------- - 37.0/38.5 MB 4.1 MB/s eta 0:00:01\n",
      "   ---------------------------------------  38.0/38.5 MB 4.1 MB/s eta 0:00:01\n",
      "   ---------------------------------------  38.3/38.5 MB 4.1 MB/s eta 0:00:01\n",
      "   ---------------------------------------- 38.5/38.5 MB 4.1 MB/s  0:00:09\n",
      "Installing collected packages: scipy\n",
      "Successfully installed scipy-1.16.1\n"
     ]
    }
   ],
   "source": [
    "!pip install scipy\n",
    "\n"
   ]
  },
  {
   "cell_type": "code",
   "execution_count": 13,
   "id": "b275638f-448c-45c3-8f18-17c215ce4395",
   "metadata": {},
   "outputs": [
    {
     "data": {
      "text/html": [
       "<div>\n",
       "<style scoped>\n",
       "    .dataframe tbody tr th:only-of-type {\n",
       "        vertical-align: middle;\n",
       "    }\n",
       "\n",
       "    .dataframe tbody tr th {\n",
       "        vertical-align: top;\n",
       "    }\n",
       "\n",
       "    .dataframe thead th {\n",
       "        text-align: right;\n",
       "    }\n",
       "</style>\n",
       "<table border=\"1\" class=\"dataframe\">\n",
       "  <thead>\n",
       "    <tr style=\"text-align: right;\">\n",
       "      <th>group</th>\n",
       "      <th>A</th>\n",
       "      <th>B</th>\n",
       "    </tr>\n",
       "    <tr>\n",
       "      <th>region</th>\n",
       "      <th></th>\n",
       "      <th></th>\n",
       "    </tr>\n",
       "  </thead>\n",
       "  <tbody>\n",
       "    <tr>\n",
       "      <th>Asia</th>\n",
       "      <td>0.144724</td>\n",
       "      <td>0.179655</td>\n",
       "    </tr>\n",
       "    <tr>\n",
       "      <th>Europe</th>\n",
       "      <td>0.144811</td>\n",
       "      <td>0.179674</td>\n",
       "    </tr>\n",
       "    <tr>\n",
       "      <th>North America</th>\n",
       "      <td>0.144011</td>\n",
       "      <td>0.177408</td>\n",
       "    </tr>\n",
       "    <tr>\n",
       "      <th>South America</th>\n",
       "      <td>0.145629</td>\n",
       "      <td>0.177566</td>\n",
       "    </tr>\n",
       "  </tbody>\n",
       "</table>\n",
       "</div>"
      ],
      "text/plain": [
       "group                 A         B\n",
       "region                           \n",
       "Asia           0.144724  0.179655\n",
       "Europe         0.144811  0.179674\n",
       "North America  0.144011  0.177408\n",
       "South America  0.145629  0.177566"
      ]
     },
     "execution_count": 13,
     "metadata": {},
     "output_type": "execute_result"
    }
   ],
   "source": [
    "import pandas as pd\n",
    "import numpy as np\n",
    "import matplotlib.pyplot as plt\n",
    "from scipy.stats import ttest_ind\n",
    "\n",
    "# Load your CSV file (update path as needed)\n",
    "df = pd.read_csv(\"C:\\\\Users\\\\kapul\\\\Downloads\\\\bigdata_ab_test_dataset.csv\")\n",
    "\n",
    "\n",
    "# 1. Overall Conversion Rate by Group\n",
    "conversion_by_group = df.groupby('group')['converted'].mean()\n",
    "\n",
    "# 2. Conversion by Device and Group\n",
    "conversion_by_device = df.groupby(['device', 'group'])['converted'].mean().unstack()\n",
    "\n",
    "# 3. Conversion by Region and Group\n",
    "conversion_by_region = df.groupby(['region', 'group'])['converted'].mean().unstack()\n",
    "conversion_by_region"
   ]
  },
  {
   "cell_type": "code",
   "execution_count": 14,
   "id": "12c4ca69-abd1-4fc2-8cf5-df3179ed445f",
   "metadata": {},
   "outputs": [
    {
     "data": {
      "text/html": [
       "<div>\n",
       "<style scoped>\n",
       "    .dataframe tbody tr th:only-of-type {\n",
       "        vertical-align: middle;\n",
       "    }\n",
       "\n",
       "    .dataframe tbody tr th {\n",
       "        vertical-align: top;\n",
       "    }\n",
       "\n",
       "    .dataframe thead th {\n",
       "        text-align: right;\n",
       "    }\n",
       "</style>\n",
       "<table border=\"1\" class=\"dataframe\">\n",
       "  <thead>\n",
       "    <tr style=\"text-align: right;\">\n",
       "      <th>group</th>\n",
       "      <th>A</th>\n",
       "      <th>B</th>\n",
       "    </tr>\n",
       "    <tr>\n",
       "      <th>device</th>\n",
       "      <th></th>\n",
       "      <th></th>\n",
       "    </tr>\n",
       "  </thead>\n",
       "  <tbody>\n",
       "    <tr>\n",
       "      <th>Desktop</th>\n",
       "      <td>0.143895</td>\n",
       "      <td>0.177868</td>\n",
       "    </tr>\n",
       "    <tr>\n",
       "      <th>Mobile</th>\n",
       "      <td>0.145852</td>\n",
       "      <td>0.179163</td>\n",
       "    </tr>\n",
       "    <tr>\n",
       "      <th>Tablet</th>\n",
       "      <td>0.143067</td>\n",
       "      <td>0.178496</td>\n",
       "    </tr>\n",
       "  </tbody>\n",
       "</table>\n",
       "</div>"
      ],
      "text/plain": [
       "group           A         B\n",
       "device                     \n",
       "Desktop  0.143895  0.177868\n",
       "Mobile   0.145852  0.179163\n",
       "Tablet   0.143067  0.178496"
      ]
     },
     "execution_count": 14,
     "metadata": {},
     "output_type": "execute_result"
    }
   ],
   "source": [
    "conversion_by_device"
   ]
  },
  {
   "cell_type": "code",
   "execution_count": 15,
   "id": "66562e59-b4ec-47b3-8a0c-7a87a45601d5",
   "metadata": {},
   "outputs": [
    {
     "data": {
      "text/plain": [
       "group\n",
       "A    0.144794\n",
       "B    0.178578\n",
       "Name: converted, dtype: float64"
      ]
     },
     "execution_count": 15,
     "metadata": {},
     "output_type": "execute_result"
    }
   ],
   "source": [
    "conversion_by_group "
   ]
  },
  {
   "cell_type": "code",
   "execution_count": 19,
   "id": "22f5eef4-afe6-4ce6-9f83-b83536928ac2",
   "metadata": {},
   "outputs": [
    {
     "data": {
      "text/plain": [
       "0         0\n",
       "4         0\n",
       "7         0\n",
       "8         0\n",
       "9         0\n",
       "         ..\n",
       "999982    1\n",
       "999987    1\n",
       "999992    0\n",
       "999994    0\n",
       "999998    0\n",
       "Name: converted, Length: 500234, dtype: int64"
      ]
     },
     "execution_count": 19,
     "metadata": {},
     "output_type": "execute_result"
    }
   ],
   "source": [
    "# 4. T-Test\n",
    "group_A = df[df['group'] == 'A']['converted']\n",
    "group_B = df[df['group'] == 'B']['converted']\n",
    "t_stat, p_value = ttest_ind(group_A, group_B)\n",
    "group_A"
   ]
  },
  {
   "cell_type": "code",
   "execution_count": 20,
   "id": "5ee0f78c-22de-4308-a16e-4639b3de131c",
   "metadata": {},
   "outputs": [
    {
     "data": {
      "text/plain": [
       "1         0\n",
       "2         1\n",
       "3         0\n",
       "5         0\n",
       "6         0\n",
       "         ..\n",
       "999993    1\n",
       "999995    0\n",
       "999996    0\n",
       "999997    1\n",
       "999999    1\n",
       "Name: converted, Length: 499766, dtype: int64"
      ]
     },
     "execution_count": 20,
     "metadata": {},
     "output_type": "execute_result"
    }
   ],
   "source": [
    "group_B"
   ]
  },
  {
   "cell_type": "code",
   "execution_count": 21,
   "id": "3e88c231-b294-4e73-aff1-b99c7fd57bcb",
   "metadata": {},
   "outputs": [
    {
     "data": {
      "text/plain": [
       "(-45.93024844506886, 0.0)"
      ]
     },
     "execution_count": 21,
     "metadata": {},
     "output_type": "execute_result"
    }
   ],
   "source": [
    "t_stat, p_value"
   ]
  },
  {
   "cell_type": "code",
   "execution_count": 22,
   "id": "52a72444-a298-4ce4-b18c-898331024fb8",
   "metadata": {},
   "outputs": [
    {
     "data": {
      "image/png": "[encoded data removed]",
      "text/plain": [
       "<Figure size 600x400 with 1 Axes>"
      ]
     },
     "metadata": {},
     "output_type": "display_data"
    }
   ],
   "source": [
    "# 5. Plot Overall Conversion Rate\n",
    "plt.figure(figsize=(6, 4))\n",
    "bars = plt.bar(conversion_by_group.index, conversion_by_group.values, color=['skyblue', 'orange'])\n",
    "plt.title('Overall Conversion Rate by Group')\n",
    "plt.ylabel('Conversion Rate')\n",
    "plt.ylim(0, 0.25)\n",
    "for bar in bars:\n",
    "    plt.text(bar.get_x() + bar.get_width()/2, bar.get_height(), f'{bar.get_height():.3f}', \n",
    "             ha='center', va='bottom')\n",
    "plt.grid(axis='y', linestyle='--', alpha=0.6)\n",
    "plt.tight_layout()\n",
    "plt.show()\n"
   ]
  },
  {
   "cell_type": "code",
   "execution_count": 23,
   "id": "9d1890e9-8797-475a-b02b-9662b36113e5",
   "metadata": {},
   "outputs": [
    {
     "data": {
      "image/png": "[encoded data removed]",
      "text/plain": [
       "<Figure size 800x500 with 1 Axes>"
      ]
     },
     "metadata": {},
     "output_type": "display_data"
    }
   ],
   "source": [
    "# 6. Plot by Device\n",
    "conversion_by_device.plot(kind='bar', figsize=(8, 5), color=['skyblue', 'orange'])\n",
    "plt.title('Conversion Rate by Device and Group')\n",
    "plt.ylabel('Conversion Rate')\n",
    "plt.ylim(0, 0.25)\n",
    "plt.grid(axis='y', linestyle='--', alpha=0.6)\n",
    "plt.tight_layout()\n",
    "plt.show()\n"
   ]
  },
  {
   "cell_type": "code",
   "execution_count": 24,
   "id": "2b2c2dde-5c40-41ed-b365-4c7c2ba43b29",
   "metadata": {},
   "outputs": [
    {
     "data": {
      "image/png": "[encoded data removed]",
      "text/plain": [
       "<Figure size 800x500 with 1 Axes>"
      ]
     },
     "metadata": {},
     "output_type": "display_data"
    }
   ],
   "source": [
    "# 7. Plot by Region\n",
    "conversion_by_region.plot(kind='bar', figsize=(8, 5), color=['skyblue', 'orange'])\n",
    "plt.title('Conversion Rate by Region and Group')\n",
    "plt.ylabel('Conversion Rate')\n",
    "plt.ylim(0, 0.25)\n",
    "plt.grid(axis='y', linestyle='--', alpha=0.6)\n",
    "plt.tight_layout()\n",
    "plt.show()\n"
   ]
  },
  {
   "cell_type": "code",
   "execution_count": 25,
   "id": "d78dd278-ce84-4f14-8656-daad354e932c",
   "metadata": {},
   "outputs": [
    {
     "name": "stdout",
     "output_type": "stream",
     "text": [
      "Conversion Rates by Group:\n",
      " group\n",
      "A    0.1448\n",
      "B    0.1786\n",
      "Name: converted, dtype: float64 \n",
      "\n",
      "T-Test Result: t-stat = -45.930, p-value = 0.0000e+00\n",
      "Conclusion: Statistically significant difference \n",
      "\n",
      "Conversion by Device:\n",
      " group         A       B\n",
      "device                 \n",
      "Desktop  0.1439  0.1779\n",
      "Mobile   0.1459  0.1792\n",
      "Tablet   0.1431  0.1785 \n",
      "\n",
      "Conversion by Region:\n",
      " group               A       B\n",
      "region                       \n",
      "Asia           0.1447  0.1797\n",
      "Europe         0.1448  0.1797\n",
      "North America  0.1440  0.1774\n",
      "South America  0.1456  0.1776\n"
     ]
    }
   ],
   "source": [
    "# 8. Print Insights\n",
    "print(\"Conversion Rates by Group:\\n\", conversion_by_group.round(4), \"\\n\")\n",
    "print(f\"T-Test Result: t-stat = {t_stat:.3f}, p-value = {p_value:.4e}\")\n",
    "print(\"Conclusion:\", \"Statistically significant difference\" if p_value < 0.05 else \"No significant difference\", \"\\n\")\n",
    "print(\"Conversion by Device:\\n\", conversion_by_device.round(4), \"\\n\")\n",
    "print(\"Conversion by Region:\\n\", conversion_by_region.round(4))"
   ]
  }
 ],
 "metadata": {
  "kernelspec": {
   "display_name": "Python 3 (ipykernel)",
   "language": "python",
   "name": "python3"
  },
  "language_info": {
   "codemirror_mode": {
    "name": "ipython",
    "version": 3
   },
   "file_extension": ".py",
   "mimetype": "text/x-python",
   "name": "python",
   "nbconvert_exporter": "python",
   "pygments_lexer": "ipython3",
   "version": "3.12.4"
  }
 },
 "nbformat": 4,
 "nbformat_minor": 5
}
